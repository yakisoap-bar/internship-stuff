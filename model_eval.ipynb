{
 "cells": [
  {
   "cell_type": "code",
   "execution_count": 18,
   "id": "f6d3e7c8-2133-404d-9f4f-cbaceaee153b",
   "metadata": {},
   "outputs": [
    {
     "name": "stdout",
     "output_type": "stream",
     "text": [
      "tensorflow version: 2.6.0\n",
      "pandas version: 1.3.2\n",
      "numpy version: 1.20.3\n",
      "seaborn version: 0.11.2\n",
      "GPU present\n"
     ]
    }
   ],
   "source": [
    "# import libraries\n",
    "import pandas as pd\n",
    "import numpy as np\n",
    "import matplotlib.pyplot as plt\n",
    "import tensorflow as tf\n",
    "import seaborn as sns\n",
    "import pathlib\n",
    "\n",
    "print(f'tensorflow version: {tf.__version__}')\n",
    "print(f'pandas version: {pd.__version__}')\n",
    "print(f'numpy version: {np.__version__}')\n",
    "print(f'seaborn version: {sns.__version__}')\n",
    "\n",
    "# check tensorflow GPU device support\n",
    "if len(tf.config.list_physical_devices('GPU')) > 0:\n",
    "    print('GPU present')\n",
    "else:\n",
    "    print('GPU absent')"
   ]
  },
  {
   "cell_type": "code",
   "execution_count": 2,
   "id": "faee0bda-dcce-46fc-a492-267c266887c4",
   "metadata": {},
   "outputs": [],
   "source": [
    "# paths to load datasets from\n",
    "val_store_path = './datasets/sa/validation'\n",
    "\n",
    "# convert to pathlib Path objects\n",
    "val_dir = pathlib.Path(val_store_path)\n",
    "\n",
    "# get list of datasets in dir\n",
    "val_ds_paths = sorted(list(val_dir.glob('*.csv')))\n",
    "\n",
    "# extract classification target from file names\n",
    "val_ds_type = np.array([x.parts[-1].split('_')[:2] for x in val_ds_paths])\n",
    "val_ds_order = [s.upper() for s in val_ds_type[:,0]]\n",
    "val_ds_loc = [s.upper() for s in val_ds_type[:, 1]]\n",
    "\n",
    "# generate signal type tags\n",
    "signal_tags = {k : i for i, k in enumerate(np.unique(sorted([s.upper() for s in val_ds_order])))}"
   ]
  },
  {
   "cell_type": "code",
   "execution_count": 3,
   "id": "73048b47-e882-49c5-b730-6e1bcaa3ae1a",
   "metadata": {},
   "outputs": [
    {
     "name": "stdout",
     "output_type": "stream",
     "text": [
      "loading datasets/sa/validation/bt_library_val.csv... loaded\n",
      "loading datasets/sa/validation/bt_office_val.csv... loaded\n",
      "loading datasets/sa/validation/bt_room_val.csv... loaded\n",
      "loading datasets/sa/validation/fm_roof_val.csv... loaded\n",
      "loading datasets/sa/validation/fnet_library_val.csv... loaded\n",
      "loading datasets/sa/validation/fnet_room_val.csv... loaded\n",
      "loading datasets/sa/validation/lte_library_val.csv... loaded\n",
      "loading datasets/sa/validation/lte_office_val.csv... loaded\n",
      "loading datasets/sa/validation/lte_room_val.csv... loaded\n",
      "loading datasets/sa/validation/wifi_library_val.csv... loaded\n",
      "loading datasets/sa/validation/wifi_office_val.csv... loaded\n",
      "loading datasets/sa/validation/wifi_room_val.csv... loaded\n",
      "done.\n"
     ]
    }
   ],
   "source": [
    "# load the dataset(s)\n",
    "\n",
    "# load dataset information\n",
    "specs = []\n",
    "datasets = []\n",
    "\n",
    "for path in val_ds_paths:\n",
    "    print(f'loading {path}...', end=' ')\n",
    "\n",
    "    # load dataset details\n",
    "    df_spec = pd.read_csv(path, nrows=10, header=None, index_col=0, names=['info'])\n",
    "    df_spec = df_spec.drop(['Version', 'DateTime', 'TimestampOffset', 'TriggerPosition', 'FastFrameID', 'IDInFastFrame', 'TotalInFastFrame'], axis=0).astype('int')\n",
    "\n",
    "    specs.append(df_spec)\n",
    "\n",
    "    # load data, strip unnecessary bits out\n",
    "    df = pd.read_csv(path, skiprows=10, names=['I', 'Q'])\n",
    "    df = df.loc[~df['I'].isin(['TimestampOffset', 'TriggerPosition', 'FastFrameID', 'IDInFastFrame', 'TotalInFastFrame'])]\n",
    "    df['I'] = df['I'].astype('float')\n",
    "\n",
    "    print(f'loaded')\n",
    "\n",
    "    datasets.append(df)\n",
    "    \n",
    "print('done.')"
   ]
  },
  {
   "cell_type": "code",
   "execution_count": 23,
   "id": "c6bad0c2-6d5a-4d89-8834-07628b9a58bb",
   "metadata": {},
   "outputs": [
    {
     "name": "stdout",
     "output_type": "stream",
     "text": [
      "\n",
      "Type\t\tLocation\tTotal Records\tSamples/Record\n",
      "BT           \tLIBRARY        \t400    \t\t1024   \n",
      "BT           \tOFFICE         \t400    \t\t1024   \n",
      "BT           \tROOM           \t400    \t\t1024   \n",
      "FM           \tROOF           \t400    \t\t1280   \n",
      "FNET         \tLIBRARY        \t400    \t\t1024   \n",
      "FNET         \tROOM           \t400    \t\t1024   \n",
      "LTE          \tLIBRARY        \t400    \t\t1024   \n",
      "LTE          \tOFFICE         \t400    \t\t1024   \n",
      "LTE          \tROOM           \t400    \t\t1024   \n",
      "WIFI         \tLIBRARY        \t400    \t\t1024   \n",
      "WIFI         \tOFFICE         \t400    \t\t1024   \n",
      "WIFI         \tROOM           \t400    \t\t1024   \n",
      "\n",
      "            Stats             \n",
      "Dataset\tLength\tRecords/Sample\n",
      "Test\t4800 \t1024\n"
     ]
    }
   ],
   "source": [
    "# split dataset(s) into records, extract test dataset\n",
    "processed = []\n",
    "\n",
    "# number of test records to extract\n",
    "ntest = 100\n",
    "rlength = 1024\n",
    "\n",
    "    \n",
    "print(f'\\nType\\t\\tLocation\\tTotal Records\\tSamples/Record')\n",
    "for i in range(len(datasets)):\n",
    "    nrecords = 400\n",
    "    nsamples = specs[i].loc['NumberSamples']['info']\n",
    "    ds_length = datasets[i].shape[0]\n",
    "\n",
    "    # make life easier\n",
    "    ds_order = val_ds_order\n",
    "    ds_loc = val_ds_loc\n",
    "\n",
    "    # sanity check\n",
    "    print(f'{ds_order[i]:<13}\\t{ds_loc[i]:<15}\\t{nrecords:<7}\\t\\t{nsamples:<7}')\n",
    "\n",
    "    # loop through dataset to split \n",
    "    for j in range(nrecords):\n",
    "        # extract sample length worth of samples for each record, then transpose for easier access later\n",
    "        record = datasets[i].iloc[(nsamples * j):(nsamples * (j+1))].values.T\n",
    "\n",
    "        # pad shorter records with random padding to rlength\n",
    "        if nsamples < rlength:\n",
    "            # deterine pad amount\n",
    "            pad_length = rlength - nsamples\n",
    "            lpad_length = np.random.randint(0, pad_length+1)\n",
    "            rpad_length = pad_length - lpad_length\n",
    "\n",
    "            # generate pad\n",
    "            lpad = np.zeros((2, lpad_length))\n",
    "            rpad = np.zeros((2, rpad_length))\n",
    "\n",
    "            # concatenate pad\n",
    "            record = np.concatenate([lpad, record, rpad], axis=1)\n",
    "\n",
    "        # truncate longer records to rlength\n",
    "        elif nsamples > rlength:\n",
    "            record = record[:,:rlength]\n",
    "\n",
    "        # add processed record to list\n",
    "        processed.append([ds_order[i], signal_tags[ds_order[i]], ds_loc[i], record])\n",
    "            \n",
    "\n",
    "# convert list into dataframes for later use, randomise, extract test records\n",
    "df_test = pd.DataFrame(processed, columns=['signal_type', 'tag', 'location', 'record']).sample(frac=1, random_state=42)\n",
    "\n",
    "# print dataset statistics\n",
    "print(f'\\n{\"Stats\":^30}')\n",
    "print(f'Dataset\\tLength\\tRecords/Sample')\n",
    "print(f'Test\\t{df_test.shape[0]:<5}\\t{df_test[\"record\"].iloc[0].shape[1]}')"
   ]
  },
  {
   "cell_type": "code",
   "execution_count": 5,
   "id": "4f30a274-b2e4-492b-88c9-732ba22a4478",
   "metadata": {},
   "outputs": [],
   "source": [
    "# define one hot encode function\n",
    "def one_hot(arr, n_cat):\n",
    "    output = []\n",
    "    for n in arr:\n",
    "        result = np.zeros(n_cat)\n",
    "        result[n] = 1\n",
    "\n",
    "        output.append(result)\n",
    "\n",
    "    return np.array(output, dtype=int)"
   ]
  },
  {
   "cell_type": "code",
   "execution_count": 6,
   "id": "0b209ba3-6819-48f3-a31e-8c94c60c637f",
   "metadata": {},
   "outputs": [
    {
     "name": "stderr",
     "output_type": "stream",
     "text": [
      "2021-11-09 16:39:01.209882: I tensorflow/core/platform/cpu_feature_guard.cc:142] This TensorFlow binary is optimized with oneAPI Deep Neural Network Library (oneDNN) to use the following CPU instructions in performance-critical operations:  AVX2 FMA\n",
      "To enable them in other operations, rebuild TensorFlow with the appropriate compiler flags.\n",
      "2021-11-09 16:39:01.210292: I tensorflow/stream_executor/cuda/cuda_gpu_executor.cc:937] successful NUMA node read from SysFS had negative value (-1), but there must be at least one NUMA node, so returning NUMA node zero\n",
      "2021-11-09 16:39:01.210651: I tensorflow/stream_executor/cuda/cuda_gpu_executor.cc:937] successful NUMA node read from SysFS had negative value (-1), but there must be at least one NUMA node, so returning NUMA node zero\n",
      "2021-11-09 16:39:01.210951: I tensorflow/stream_executor/cuda/cuda_gpu_executor.cc:937] successful NUMA node read from SysFS had negative value (-1), but there must be at least one NUMA node, so returning NUMA node zero\n",
      "2021-11-09 16:39:01.527846: I tensorflow/stream_executor/cuda/cuda_gpu_executor.cc:937] successful NUMA node read from SysFS had negative value (-1), but there must be at least one NUMA node, so returning NUMA node zero\n",
      "2021-11-09 16:39:01.528190: I tensorflow/stream_executor/cuda/cuda_gpu_executor.cc:937] successful NUMA node read from SysFS had negative value (-1), but there must be at least one NUMA node, so returning NUMA node zero\n",
      "2021-11-09 16:39:01.528490: I tensorflow/stream_executor/cuda/cuda_gpu_executor.cc:937] successful NUMA node read from SysFS had negative value (-1), but there must be at least one NUMA node, so returning NUMA node zero\n",
      "2021-11-09 16:39:01.528770: I tensorflow/core/common_runtime/gpu/gpu_device.cc:1510] Created device /job:localhost/replica:0/task:0/device:GPU:0 with 5392 MB memory:  -> device: 0, name: NVIDIA GeForce RTX 3070, pci bus id: 0000:01:00.0, compute capability: 8.6\n"
     ]
    }
   ],
   "source": [
    "# load model\n",
    "model = tf.keras.models.load_model('./saved_models/SA_resnet')"
   ]
  },
  {
   "cell_type": "code",
   "execution_count": 32,
   "id": "7b1cd284-b904-44a5-a187-953f04a9d8a4",
   "metadata": {},
   "outputs": [
    {
     "name": "stdout",
     "output_type": "stream",
     "text": [
      "performing evaluation for OVERALL... done.\n",
      "performing evaluation for OFFICE... done.\n",
      "performing evaluation for ROOM... done.\n",
      "performing evaluation for LIBRARY... done.\n",
      "performing evaluation for ROOF... done.\n",
      "\n",
      "Location\tLoss\t\tAccuracy\tPrecision\tRecall\t\tF1 Score\n",
      "OVERALL        \t0.01692        \t0.99521        \t0.99525        \t0.99521        \t0.99521\n",
      "OFFICE         \t0.03914        \t0.98833        \t0.98865        \t0.98833        \t0.98834\n",
      "ROOM           \t0.01115        \t0.99750        \t0.99813        \t0.99750        \t0.99781\n",
      "LIBRARY        \t0.01015        \t0.99687        \t0.99691        \t0.99687        \t0.99687\n",
      "ROOF           \t0.00040        \t1.00000        \t1.00000        \t1.00000        \t1.00000\n"
     ]
    },
    {
     "data": {
      "image/png": "[encoded data removed]",
      "text/plain": [
       "<Figure size 1440x720 with 5 Axes>"
      ]
     },
     "metadata": {
      "needs_background": "light"
     },
     "output_type": "display_data"
    }
   ],
   "source": [
    "from sklearn.metrics import precision_recall_fscore_support\n",
    "\n",
    "# plot confusion matrices, get precision, recall and F1 scores for each location\n",
    "metrics = []\n",
    "\n",
    "fig = plt.figure(1, figsize=(20, 10))\n",
    "gs = fig.add_gridspec(2, 4)\n",
    "\n",
    "# plot confusion matrix for entire dataset\n",
    "X_val_all = np.concatenate(df_test['record'].values).reshape((df_test.shape[0], 2, rlength, 1))\n",
    "y_val_all = one_hot(df_test['tag'].values, len(signal_tags))\n",
    "cm_truth_all = df_test['tag'].values\n",
    "\n",
    "# get evaluation results\n",
    "print(f'performing evaluation for OVERALL...', end=' ')\n",
    "results_all = model.evaluate(X_val_all, y_val_all, verbose=0)\n",
    "cm_pred_all = np.argmax(model.predict(X_val_all), axis=1)\n",
    "print(f'done.')\n",
    "\n",
    "metrics.append(['OVERALL', results_all[0], results_all[1], precision_recall_fscore_support(cm_truth_all, cm_pred_all, average='weighted', zero_division=0)[:3]])\n",
    "\n",
    "# generate matrix\n",
    "tags = list(signal_tags.keys())\n",
    "df_cm_all = pd.DataFrame(tf.math.confusion_matrix(cm_truth_all, cm_pred_all, num_classes=len(tags)).numpy(), index=tags, columns=tags)\n",
    "\n",
    "# plot matrix\n",
    "ax = fig.add_subplot(gs[:, :2])\n",
    "sns.heatmap(df_cm_all, annot=True, fmt='d', ax=ax, cbar=False)\n",
    "ax.set_title(f'OVERALL confusion matrix')\n",
    "\n",
    "\n",
    "\n",
    "# plot confusion matrices for each collection location\n",
    "for i, location in enumerate(df_test['location'].unique()):\n",
    "    # select location subset from combined dataset\n",
    "    df_eval = df_test[df_test['location'] == location]\n",
    "    \n",
    "    # process data into correct input format\n",
    "    X_val = np.concatenate(df_eval['record'].values).reshape((df_eval.shape[0], 2, rlength, 1))\n",
    "    y_val = one_hot(df_eval['tag'].values, len(signal_tags))\n",
    "    cm_truth = df_eval['tag'].values\n",
    "    \n",
    "    # get evaluation results\n",
    "    print(f'performing evaluation for {location}...', end=' ')\n",
    "    results = model.evaluate(X_val, y_val, verbose=0)\n",
    "    cm_pred = np.argmax(model.predict(X_val), axis=1)\n",
    "    print(f'done.')\n",
    "    \n",
    "    metrics.append([location, results[0], results[1], precision_recall_fscore_support(cm_truth, cm_pred, average='weighted', zero_division=0)[:3]])\n",
    "    \n",
    "    # generate matrix\n",
    "    df_cm = pd.DataFrame(tf.math.confusion_matrix(cm_truth, cm_pred, num_classes=len(tags)).numpy(), index=tags, columns=tags)\n",
    "\n",
    "    # plot matrix\n",
    "    ax = fig.add_subplot(gs[(i//2), (2 + i%2)])\n",
    "    sns.heatmap(df_cm, annot=True, fmt='d', ax=ax, cbar=False)\n",
    "    ax.set_title(f'{location} confusion matrix')\n",
    "    \n",
    "\n",
    "# print scores for each location\n",
    "print(f'\\nLocation\\tLoss\\t\\tAccuracy\\tPrecision\\tRecall\\t\\tF1 Score')\n",
    "for location, loss, accuracy, scores in metrics:\n",
    "    print(f'{location:<15}\\t{loss:<15.5f}\\t{accuracy:<15.5f}\\t{scores[0]:<15.5f}\\t{scores[1]:<15.5f}\\t{scores[2]:<7.5f}')\n",
    "\n",
    "plt.show()"
   ]
  }
 ],
 "metadata": {
  "kernelspec": {
   "display_name": "Python 3 (ipykernel)",
   "language": "python",
   "name": "python3"
  },
  "language_info": {
   "codemirror_mode": {
    "name": "ipython",
    "version": 3
   },
   "file_extension": ".py",
   "mimetype": "text/x-python",
   "name": "python",
   "nbconvert_exporter": "python",
   "pygments_lexer": "ipython3",
   "version": "3.9.7"
  }
 },
 "nbformat": 4,
 "nbformat_minor": 5
}
